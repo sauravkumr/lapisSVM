{
  "nbformat": 4,
  "nbformat_minor": 0,
  "metadata": {
    "colab": {
      "name": "SVM Model.ipynb",
      "provenance": [],
      "collapsed_sections": []
    },
    "kernelspec": {
      "name": "python3",
      "display_name": "Python 3"
    },
    "language_info": {
      "name": "python"
    },
    "accelerator": "GPU"
  },
  "cells": [
    {
      "cell_type": "code",
      "metadata": {
        "colab": {
          "base_uri": "https://localhost:8080/"
        },
        "id": "SRynUGv5oh5F",
        "outputId": "93ec9bd9-e426-49f3-c6b4-1ff493367992"
      },
      "source": [
        "!nvidia-smi"
      ],
      "execution_count": 68,
      "outputs": [
        {
          "output_type": "stream",
          "text": [
            "Sat Jul 31 22:37:15 2021       \n",
            "+-----------------------------------------------------------------------------+\n",
            "| NVIDIA-SMI 470.42.01    Driver Version: 460.32.03    CUDA Version: 11.2     |\n",
            "|-------------------------------+----------------------+----------------------+\n",
            "| GPU  Name        Persistence-M| Bus-Id        Disp.A | Volatile Uncorr. ECC |\n",
            "| Fan  Temp  Perf  Pwr:Usage/Cap|         Memory-Usage | GPU-Util  Compute M. |\n",
            "|                               |                      |               MIG M. |\n",
            "|===============================+======================+======================|\n",
            "|   0  Tesla T4            Off  | 00000000:00:04.0 Off |                    0 |\n",
            "| N/A   39C    P8     9W /  70W |      0MiB / 15109MiB |      0%      Default |\n",
            "|                               |                      |                  N/A |\n",
            "+-------------------------------+----------------------+----------------------+\n",
            "                                                                               \n",
            "+-----------------------------------------------------------------------------+\n",
            "| Processes:                                                                  |\n",
            "|  GPU   GI   CI        PID   Type   Process name                  GPU Memory |\n",
            "|        ID   ID                                                   Usage      |\n",
            "|=============================================================================|\n",
            "|  No running processes found                                                 |\n",
            "+-----------------------------------------------------------------------------+\n"
          ],
          "name": "stdout"
        }
      ]
    },
    {
      "cell_type": "code",
      "metadata": {
        "id": "rWkLT61_jJUF"
      },
      "source": [
        "import numpy as np\n",
        "import pandas as pd"
      ],
      "execution_count": 69,
      "outputs": []
    },
    {
      "cell_type": "code",
      "metadata": {
        "colab": {
          "base_uri": "https://localhost:8080/",
          "height": 323
        },
        "id": "4Y3D9_e3l4hb",
        "outputId": "0451063c-174e-4d27-8b13-531922a573b5"
      },
      "source": [
        "tweets = pd.read_csv('train.csv', encoding = 'latin-1')\n",
        "tweets = tweets.sample(frac=1).reset_index(drop=True)\n",
        "tweets.tail()"
      ],
      "execution_count": 55,
      "outputs": [
        {
          "output_type": "execute_result",
          "data": {
            "text/html": [
              "<div>\n",
              "<style scoped>\n",
              "    .dataframe tbody tr th:only-of-type {\n",
              "        vertical-align: middle;\n",
              "    }\n",
              "\n",
              "    .dataframe tbody tr th {\n",
              "        vertical-align: top;\n",
              "    }\n",
              "\n",
              "    .dataframe thead th {\n",
              "        text-align: right;\n",
              "    }\n",
              "</style>\n",
              "<table border=\"1\" class=\"dataframe\">\n",
              "  <thead>\n",
              "    <tr style=\"text-align: right;\">\n",
              "      <th></th>\n",
              "      <th>0</th>\n",
              "      <th>1467810369</th>\n",
              "      <th>Mon Apr 06 22:19:45 PDT 2009</th>\n",
              "      <th>NO_QUERY</th>\n",
              "      <th>_TheSpecialOne_</th>\n",
              "      <th>@switchfoot http://twitpic.com/2y1zl - Awww, that's a bummer.  You shoulda got David Carr of Third Day to do it. ;D</th>\n",
              "    </tr>\n",
              "  </thead>\n",
              "  <tbody>\n",
              "    <tr>\n",
              "      <th>1599994</th>\n",
              "      <td>4</td>\n",
              "      <td>2013974287</td>\n",
              "      <td>Wed Jun 03 00:05:52 PDT 2009</td>\n",
              "      <td>NO_QUERY</td>\n",
              "      <td>iledere</td>\n",
              "      <td>Well done for telling us about #BookCrossing o...</td>\n",
              "    </tr>\n",
              "    <tr>\n",
              "      <th>1599995</th>\n",
              "      <td>4</td>\n",
              "      <td>1835722811</td>\n",
              "      <td>Mon May 18 06:36:58 PDT 2009</td>\n",
              "      <td>NO_QUERY</td>\n",
              "      <td>JRKNaughtyNurse</td>\n",
              "      <td>@ardeming Glad to hearyou made it back to dry ...</td>\n",
              "    </tr>\n",
              "    <tr>\n",
              "      <th>1599996</th>\n",
              "      <td>0</td>\n",
              "      <td>2324584581</td>\n",
              "      <td>Thu Jun 25 03:31:54 PDT 2009</td>\n",
              "      <td>NO_QUERY</td>\n",
              "      <td>linaababyy</td>\n",
              "      <td>My english is getting worse . aish .. boohooho...</td>\n",
              "    </tr>\n",
              "    <tr>\n",
              "      <th>1599997</th>\n",
              "      <td>0</td>\n",
              "      <td>2048531661</td>\n",
              "      <td>Fri Jun 05 15:21:09 PDT 2009</td>\n",
              "      <td>NO_QUERY</td>\n",
              "      <td>CatWheatley</td>\n",
              "      <td>@SammyLou3 ohhh i see  bad times my love! im h...</td>\n",
              "    </tr>\n",
              "    <tr>\n",
              "      <th>1599998</th>\n",
              "      <td>0</td>\n",
              "      <td>2065037863</td>\n",
              "      <td>Sun Jun 07 07:45:17 PDT 2009</td>\n",
              "      <td>NO_QUERY</td>\n",
              "      <td>hellocuppycake</td>\n",
              "      <td>@Lipe_Br grr it keeps on crashing for me</td>\n",
              "    </tr>\n",
              "  </tbody>\n",
              "</table>\n",
              "</div>"
            ],
            "text/plain": [
              "         0  ...  @switchfoot http://twitpic.com/2y1zl - Awww, that's a bummer.  You shoulda got David Carr of Third Day to do it. ;D\n",
              "1599994  4  ...  Well done for telling us about #BookCrossing o...                                                                  \n",
              "1599995  4  ...  @ardeming Glad to hearyou made it back to dry ...                                                                  \n",
              "1599996  0  ...  My english is getting worse . aish .. boohooho...                                                                  \n",
              "1599997  0  ...  @SammyLou3 ohhh i see  bad times my love! im h...                                                                  \n",
              "1599998  0  ...          @Lipe_Br grr it keeps on crashing for me                                                                   \n",
              "\n",
              "[5 rows x 6 columns]"
            ]
          },
          "metadata": {
            "tags": []
          },
          "execution_count": 55
        }
      ]
    },
    {
      "cell_type": "code",
      "metadata": {
        "colab": {
          "base_uri": "https://localhost:8080/"
        },
        "id": "Uzcl7XKDl5BU",
        "outputId": "91849d40-d15c-40c5-9200-54c34404a99e"
      },
      "source": [
        "tweets = tweets.rename(columns={\"0\":\"sentiment\"})\n",
        "tweets = tweets.rename(columns={\"@switchfoot http://twitpic.com/2y1zl - Awww, that's a bummer.  You shoulda got David Carr of Third Day to do it. ;D\":\"tweet\"})\n",
        "print(tweets.columns)"
      ],
      "execution_count": 56,
      "outputs": [
        {
          "output_type": "stream",
          "text": [
            "Index(['sentiment', '1467810369', 'Mon Apr 06 22:19:45 PDT 2009', 'NO_QUERY',\n",
            "       '_TheSpecialOne_', 'tweet'],\n",
            "      dtype='object')\n"
          ],
          "name": "stdout"
        }
      ]
    },
    {
      "cell_type": "code",
      "metadata": {
        "colab": {
          "base_uri": "https://localhost:8080/",
          "height": 419
        },
        "id": "nTeDbqdcl9M4",
        "outputId": "27e80937-8557-44fb-b5e4-e9318127062f"
      },
      "source": [
        "tweets = tweets.drop(axis=1, columns=['1467810369', 'Mon Apr 06 22:19:45 PDT 2009', 'NO_QUERY', '_TheSpecialOne_'])\n",
        "tweets"
      ],
      "execution_count": 57,
      "outputs": [
        {
          "output_type": "execute_result",
          "data": {
            "text/html": [
              "<div>\n",
              "<style scoped>\n",
              "    .dataframe tbody tr th:only-of-type {\n",
              "        vertical-align: middle;\n",
              "    }\n",
              "\n",
              "    .dataframe tbody tr th {\n",
              "        vertical-align: top;\n",
              "    }\n",
              "\n",
              "    .dataframe thead th {\n",
              "        text-align: right;\n",
              "    }\n",
              "</style>\n",
              "<table border=\"1\" class=\"dataframe\">\n",
              "  <thead>\n",
              "    <tr style=\"text-align: right;\">\n",
              "      <th></th>\n",
              "      <th>sentiment</th>\n",
              "      <th>tweet</th>\n",
              "    </tr>\n",
              "  </thead>\n",
              "  <tbody>\n",
              "    <tr>\n",
              "      <th>0</th>\n",
              "      <td>0</td>\n",
              "      <td>Mom's making me go to bed... have to get up ea...</td>\n",
              "    </tr>\n",
              "    <tr>\n",
              "      <th>1</th>\n",
              "      <td>4</td>\n",
              "      <td>Getting ready too see the movie awards</td>\n",
              "    </tr>\n",
              "    <tr>\n",
              "      <th>2</th>\n",
              "      <td>0</td>\n",
              "      <td>I'm working a split shift tonight   Open and c...</td>\n",
              "    </tr>\n",
              "    <tr>\n",
              "      <th>3</th>\n",
              "      <td>0</td>\n",
              "      <td>Ouch. We've re-priced twice for worse rates to...</td>\n",
              "    </tr>\n",
              "    <tr>\n",
              "      <th>4</th>\n",
              "      <td>4</td>\n",
              "      <td>gaurav is making me feel hungry : stop being s...</td>\n",
              "    </tr>\n",
              "    <tr>\n",
              "      <th>...</th>\n",
              "      <td>...</td>\n",
              "      <td>...</td>\n",
              "    </tr>\n",
              "    <tr>\n",
              "      <th>1599994</th>\n",
              "      <td>4</td>\n",
              "      <td>Well done for telling us about #BookCrossing o...</td>\n",
              "    </tr>\n",
              "    <tr>\n",
              "      <th>1599995</th>\n",
              "      <td>4</td>\n",
              "      <td>@ardeming Glad to hearyou made it back to dry ...</td>\n",
              "    </tr>\n",
              "    <tr>\n",
              "      <th>1599996</th>\n",
              "      <td>0</td>\n",
              "      <td>My english is getting worse . aish .. boohooho...</td>\n",
              "    </tr>\n",
              "    <tr>\n",
              "      <th>1599997</th>\n",
              "      <td>0</td>\n",
              "      <td>@SammyLou3 ohhh i see  bad times my love! im h...</td>\n",
              "    </tr>\n",
              "    <tr>\n",
              "      <th>1599998</th>\n",
              "      <td>0</td>\n",
              "      <td>@Lipe_Br grr it keeps on crashing for me</td>\n",
              "    </tr>\n",
              "  </tbody>\n",
              "</table>\n",
              "<p>1599999 rows × 2 columns</p>\n",
              "</div>"
            ],
            "text/plain": [
              "         sentiment                                              tweet\n",
              "0                0  Mom's making me go to bed... have to get up ea...\n",
              "1                4            Getting ready too see the movie awards \n",
              "2                0  I'm working a split shift tonight   Open and c...\n",
              "3                0  Ouch. We've re-priced twice for worse rates to...\n",
              "4                4  gaurav is making me feel hungry : stop being s...\n",
              "...            ...                                                ...\n",
              "1599994          4  Well done for telling us about #BookCrossing o...\n",
              "1599995          4  @ardeming Glad to hearyou made it back to dry ...\n",
              "1599996          0  My english is getting worse . aish .. boohooho...\n",
              "1599997          0  @SammyLou3 ohhh i see  bad times my love! im h...\n",
              "1599998          0          @Lipe_Br grr it keeps on crashing for me \n",
              "\n",
              "[1599999 rows x 2 columns]"
            ]
          },
          "metadata": {
            "tags": []
          },
          "execution_count": 57
        }
      ]
    },
    {
      "cell_type": "code",
      "metadata": {
        "id": "_OJCGKeZx8Ke"
      },
      "source": [
        "tweets = tweets.head(50000)"
      ],
      "execution_count": 59,
      "outputs": []
    },
    {
      "cell_type": "code",
      "metadata": {
        "colab": {
          "base_uri": "https://localhost:8080/"
        },
        "id": "M6rWYWRAZmVf",
        "outputId": "11607a9d-005e-415a-926a-132915da775d"
      },
      "source": [
        "for i in range(len(tweets['tweet'])):\n",
        "  if tweets['sentiment'][i] == 1:\n",
        "    tweets['sentiment'][i] = 0\n",
        "  elif tweets['sentiment'][i] == 2:\n",
        "    tweets['sentiment'][i] = 1\n",
        "  elif tweets['sentiment'][i] == 4 or tweets['sentiment'][i] == 3:\n",
        "    tweets['sentiment'][i] = 2"
      ],
      "execution_count": 60,
      "outputs": [
        {
          "output_type": "stream",
          "text": [
            "/usr/local/lib/python3.7/dist-packages/ipykernel_launcher.py:7: SettingWithCopyWarning: \n",
            "A value is trying to be set on a copy of a slice from a DataFrame\n",
            "\n",
            "See the caveats in the documentation: https://pandas.pydata.org/pandas-docs/stable/user_guide/indexing.html#returning-a-view-versus-a-copy\n",
            "  import sys\n"
          ],
          "name": "stderr"
        }
      ]
    },
    {
      "cell_type": "code",
      "metadata": {
        "colab": {
          "base_uri": "https://localhost:8080/",
          "height": 204
        },
        "id": "2Ab_eGxRaVPb",
        "outputId": "9a1360d8-6126-4a05-f16a-8776765971a7"
      },
      "source": [
        "tweets.head()"
      ],
      "execution_count": 61,
      "outputs": [
        {
          "output_type": "execute_result",
          "data": {
            "text/html": [
              "<div>\n",
              "<style scoped>\n",
              "    .dataframe tbody tr th:only-of-type {\n",
              "        vertical-align: middle;\n",
              "    }\n",
              "\n",
              "    .dataframe tbody tr th {\n",
              "        vertical-align: top;\n",
              "    }\n",
              "\n",
              "    .dataframe thead th {\n",
              "        text-align: right;\n",
              "    }\n",
              "</style>\n",
              "<table border=\"1\" class=\"dataframe\">\n",
              "  <thead>\n",
              "    <tr style=\"text-align: right;\">\n",
              "      <th></th>\n",
              "      <th>sentiment</th>\n",
              "      <th>tweet</th>\n",
              "    </tr>\n",
              "  </thead>\n",
              "  <tbody>\n",
              "    <tr>\n",
              "      <th>0</th>\n",
              "      <td>0</td>\n",
              "      <td>Mom's making me go to bed... have to get up ea...</td>\n",
              "    </tr>\n",
              "    <tr>\n",
              "      <th>1</th>\n",
              "      <td>2</td>\n",
              "      <td>Getting ready too see the movie awards</td>\n",
              "    </tr>\n",
              "    <tr>\n",
              "      <th>2</th>\n",
              "      <td>0</td>\n",
              "      <td>I'm working a split shift tonight   Open and c...</td>\n",
              "    </tr>\n",
              "    <tr>\n",
              "      <th>3</th>\n",
              "      <td>0</td>\n",
              "      <td>Ouch. We've re-priced twice for worse rates to...</td>\n",
              "    </tr>\n",
              "    <tr>\n",
              "      <th>4</th>\n",
              "      <td>2</td>\n",
              "      <td>gaurav is making me feel hungry : stop being s...</td>\n",
              "    </tr>\n",
              "  </tbody>\n",
              "</table>\n",
              "</div>"
            ],
            "text/plain": [
              "   sentiment                                              tweet\n",
              "0          0  Mom's making me go to bed... have to get up ea...\n",
              "1          2            Getting ready too see the movie awards \n",
              "2          0  I'm working a split shift tonight   Open and c...\n",
              "3          0  Ouch. We've re-priced twice for worse rates to...\n",
              "4          2  gaurav is making me feel hungry : stop being s..."
            ]
          },
          "metadata": {
            "tags": []
          },
          "execution_count": 61
        }
      ]
    },
    {
      "cell_type": "code",
      "metadata": {
        "id": "lPzYtnMhmqZ6"
      },
      "source": [
        "from sklearn.model_selection import train_test_split\n",
        "X_train, X_test, y_train, y_test = train_test_split(tweets['tweet'], tweets['sentiment'], test_size=0.33)"
      ],
      "execution_count": 62,
      "outputs": []
    },
    {
      "cell_type": "code",
      "metadata": {
        "id": "jSseyR4MmvsE"
      },
      "source": [
        "from sklearn.feature_extraction.text import TfidfVectorizer\n",
        "# Create feature vectors\n",
        "vectorizer = TfidfVectorizer()\n",
        "train_vectors = vectorizer.fit_transform(X_train)\n",
        "test_vectors = vectorizer.transform(X_test)"
      ],
      "execution_count": 63,
      "outputs": []
    },
    {
      "cell_type": "code",
      "metadata": {
        "id": "GQfgbN-Ym1oB",
        "colab": {
          "base_uri": "https://localhost:8080/"
        },
        "outputId": "38600ffc-3e57-43f9-c9ed-46440402d499"
      },
      "source": [
        "import time\n",
        "from sklearn import svm\n",
        "from sklearn.metrics import classification_report\n",
        "# Perform classification with SVM, kernel=linear\n",
        "classifier_linear = svm.SVC(kernel='linear')\n",
        "t0 = time.time()\n",
        "classifier_linear.fit(train_vectors, y_train)\n",
        "t1 = time.time()\n",
        "prediction_linear = classifier_linear.predict(test_vectors)\n",
        "t2 = time.time()\n",
        "time_linear_train = t1-t0\n",
        "time_linear_predict = t2-t1\n",
        "# results\n",
        "print(\"Training time: %fs; Prediction time: %fs\" % (time_linear_train, time_linear_predict))\n",
        "report = classification_report(y_test, prediction_linear, output_dict=True)\n",
        "# print('positive: ', report['pos'])\n",
        "# print('negative: ', report['neg'])"
      ],
      "execution_count": 64,
      "outputs": [
        {
          "output_type": "stream",
          "text": [
            "Training time: 188.938856s; Prediction time: 36.376469s\n"
          ],
          "name": "stdout"
        }
      ]
    },
    {
      "cell_type": "code",
      "metadata": {
        "id": "wI47c0n5IQCn",
        "colab": {
          "base_uri": "https://localhost:8080/"
        },
        "outputId": "cc4bbc44-0980-4114-d3e3-dc63e9523b4d"
      },
      "source": [
        "report"
      ],
      "execution_count": 66,
      "outputs": [
        {
          "output_type": "execute_result",
          "data": {
            "text/plain": [
              "{'0': {'f1-score': 0.773462783171521,\n",
              "  'precision': 0.7694050315965184,\n",
              "  'recall': 0.7775635618749247,\n",
              "  'support': 8299},\n",
              " '2': {'f1-score': 0.7682971680764987,\n",
              "  'precision': 0.7724639467521263,\n",
              "  'recall': 0.7641751005974882,\n",
              "  'support': 8201},\n",
              " 'accuracy': 0.7709090909090909,\n",
              " 'macro avg': {'f1-score': 0.7708799756240099,\n",
              "  'precision': 0.7709344891743224,\n",
              "  'recall': 0.7708693312362065,\n",
              "  'support': 16500},\n",
              " 'weighted avg': {'f1-score': 0.7708953159355041,\n",
              "  'precision': 0.770925405123254,\n",
              "  'recall': 0.7709090909090909,\n",
              "  'support': 16500}}"
            ]
          },
          "metadata": {
            "tags": []
          },
          "execution_count": 66
        }
      ]
    },
    {
      "cell_type": "code",
      "metadata": {
        "id": "CzyJCpp-J6ce",
        "colab": {
          "base_uri": "https://localhost:8080/"
        },
        "outputId": "5df1336a-6226-4c5d-9e4b-8dfab6959025"
      },
      "source": [
        "review = \"\"\"Amazon rainforest tribe protects their land\"\"\"\n",
        "review_vector = vectorizer.transform([review]) # vectorizing\n",
        "print(classifier_linear.predict(review_vector))"
      ],
      "execution_count": 70,
      "outputs": [
        {
          "output_type": "stream",
          "text": [
            "[2]\n"
          ],
          "name": "stdout"
        }
      ]
    },
    {
      "cell_type": "code",
      "metadata": {
        "id": "eHdqFG7sGMZW"
      },
      "source": [
        "import pickle\n",
        "pickle.dump(vectorizer, open('vectorizer.sav', 'wb'))\n",
        "pickle.dump(classifier_linear, open('classifier.sav', 'wb'))"
      ],
      "execution_count": 71,
      "outputs": []
    }
  ]
}